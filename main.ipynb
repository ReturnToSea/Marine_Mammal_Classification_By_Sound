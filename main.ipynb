{
 "cells": [
  {
   "cell_type": "code",
   "execution_count": 15,
   "metadata": {},
   "outputs": [],
   "source": [
    "import kagglehub\n",
    "import shutil\n",
    "import wave\n",
    "import numpy as np\n",
    "import pandas as pd\n",
    "from scipy.io import wavfile\n",
    "from scipy.signal import resample, spectrogram\n",
    "import matplotlib.pyplot as plt\n",
    "from sklearn.model_selection import train_test_split\n",
    "import os\n",
    "from sklearn.preprocessing import LabelEncoder\n",
    "#from tensorflow.keras.utils import to_categorical"
   ]
  },
  {
   "cell_type": "code",
   "execution_count": null,
   "metadata": {},
   "outputs": [],
   "source": [
    "# Download latest version\n",
    "path = kagglehub.dataset_download(\"shreyj1729/best-of-watkins-marine-mammal-sound-database\")\n",
    "\n",
    "print(\"Path to dataset files:\", path)"
   ]
  },
  {
   "cell_type": "code",
   "execution_count": null,
   "metadata": {},
   "outputs": [],
   "source": [
    "process_audio_data(data_path, output_folder=modified_data_folder, target_sr=target_sr)"
   ]
  },
  {
   "cell_type": "code",
   "execution_count": null,
   "metadata": {},
   "outputs": [],
   "source": [
    "#Used to get data into same directory\n",
    "#shutil.move(path, \"/Users/miku/Documents/GitHub/Marine_Mammal_Classification_By_Sound\")\n",
    "#path = \n",
    "\n",
    "path = \"/Users/miku/.cache/kagglehub/datasets/shreyj1729/best-of-watkins-marine-mammal-sound-database/versions/3/data\""
   ]
  },
  {
   "cell_type": "code",
   "execution_count": null,
   "metadata": {},
   "outputs": [],
   "source": [
    "for folder in os.listdir(path):\n",
    "    folder_path = os.path.join(path, folder)\n",
    "    \n",
    "    #Skip if it's not a directory\n",
    "    if not os.path.isdir(folder_path):\n",
    "        continue\n",
    "    \n",
    "    #Count the number of files in the current directory\n",
    "    num_files = len([f for f in os.listdir(folder_path) if os.path.isfile(os.path.join(folder_path, f))])\n",
    "    \n",
    "    print(f\"Folder: {folder}, Number of files: {num_files}\")\n"
   ]
  },
  {
   "cell_type": "code",
   "execution_count": null,
   "metadata": {},
   "outputs": [],
   "source": [
    "def move_problematic_file(file_path, problematic_folder):\n",
    "    try:\n",
    "        os.makedirs(problematic_folder, exist_ok=True)\n",
    "        shutil.move(file_path, os.path.join(problematic_folder, os.path.basename(file_path)))\n",
    "        print(f\"Moved {file_path} to {problematic_folder}\")\n",
    "    except Exception as e:\n",
    "        print(f\"Error moving file {file_path}: {e}\")"
   ]
  },
  {
   "cell_type": "code",
   "execution_count": null,
   "metadata": {},
   "outputs": [],
   "source": [
    "def process_audio_file(file_path, target_length_seconds=5, output_folder=modified_data_folder, problematic_folder=problematic_folder):\n",
    "    try:\n",
    "        # Read the WAV file\n",
    "        sample_rate, data = wavfile.read(file_path)\n",
    "        \n",
    "        # Calculate the target number of samples (5 seconds)\n",
    "        target_samples = target_length_seconds * sample_rate\n",
    "        \n",
    "        # Trim or pad the audio data\n",
    "        if len(data) > target_samples:\n",
    "            # Trim to 5 seconds\n",
    "            data = data[:target_samples]\n",
    "        elif len(data) < target_samples:\n",
    "            # Pad with zeros (silence) if less than 5 seconds\n",
    "            padding = target_samples - len(data)\n",
    "            data = np.pad(data, (0, padding), mode='constant')\n",
    "\n",
    "        # Save the modified file to the output folder (don't overwrite the original)\n",
    "        output_file = os.path.join(output_folder, os.path.basename(file_path))\n",
    "        wavfile.write(output_file, sample_rate, data)\n",
    "        print(f\"Processed {file_path}, saved to {output_file}\")\n",
    "\n",
    "    except ValueError as e:\n",
    "        print(f\"Error processing {file_path}: {e}\")\n",
    "        move_problematic_file(file_path, problematic_folder)"
   ]
  },
  {
   "cell_type": "code",
   "execution_count": null,
   "metadata": {},
   "outputs": [],
   "source": [
    "def print_audio_length(filename):\n",
    "    try:\n",
    "        sample_rate, data = wavfile.read(filename)\n",
    "        audio_length = len(data) / sample_rate\n",
    "        return audio_length\n",
    "    except ValueError as e:\n",
    "        print(f\"Error processing {filename}: {e}\")\n",
    "        return None"
   ]
  },
  {
   "cell_type": "code",
   "execution_count": null,
   "metadata": {},
   "outputs": [],
   "source": [
    "def get_wav_channels(filename):\n",
    "    with wave.open(filename, 'r') as wav_file:\n",
    "        return wav_file.getnchannels()"
   ]
  },
  {
   "cell_type": "code",
   "execution_count": null,
   "metadata": {},
   "outputs": [],
   "source": [
    "def resample_audio(audio_data, original_sr, target_sr=16000):\n",
    "    num_samples = int(len(audio_data) * float(target_sr) / original_sr)\n",
    "    return resample(audio_data, num_samples)"
   ]
  },
  {
   "cell_type": "code",
   "execution_count": null,
   "metadata": {},
   "outputs": [],
   "source": [
    "def save_spectrogram(filename, output_base_folder, target_sr=16000):\n",
    "    try:\n",
    "        sample_rate, data = wavfile.read(filename)\n",
    "        \n",
    "        if sample_rate != target_sr:\n",
    "            data = resample_audio(data, sample_rate, target_sr)\n",
    "            sample_rate = target_sr\n",
    "        \n",
    "        f, t, Sxx = spectrogram(data, sample_rate)\n",
    "        \n",
    "        # Get the relative path of the animal folder from the original file\n",
    "        animal_folder = os.path.basename(os.path.dirname(filename))\n",
    "        \n",
    "        # Define the output folder for this animal, preserving the directory structure\n",
    "        animal_output_folder = os.path.join(output_base_folder, animal_folder)\n",
    "        \n",
    "        os.makedirs(animal_output_folder, exist_ok=True)\n",
    "        \n",
    "        # Define the output path for the spectrogram data file\n",
    "        output_filename = os.path.join(animal_output_folder, os.path.basename(filename).replace('.wav', '_spectrogram.npy'))\n",
    "        \n",
    "        # Save the spectrogram as a NumPy array\n",
    "        np.save(output_filename, Sxx)\n",
    "        print(f\"Saved spectrogram data for {filename} to {output_filename}\")\n",
    "    except ValueError as e:\n",
    "        print(f\"Error processing {filename}: {e}\")"
   ]
  },
  {
   "cell_type": "code",
   "execution_count": null,
   "metadata": {},
   "outputs": [],
   "source": [
    "def process_audio_data(data_path, output_folder=modified_data_folder, target_sr=16000):\n",
    "    one_channel_count = 0\n",
    "    multi_channel_count = 0\n",
    "\n",
    "    for folder in os.listdir(data_path):\n",
    "        folder_path = os.path.join(data_path, folder)\n",
    "        \n",
    "        if not os.path.isdir(folder_path):\n",
    "            continue\n",
    "        \n",
    "        for file in os.listdir(folder_path):\n",
    "            file_path = os.path.join(folder_path, file)\n",
    "            \n",
    "            if not file.endswith('.wav'):\n",
    "                print(\"Not wav:\", file)\n",
    "                continue\n",
    "\n",
    "            sample_rate, data = wavfile.read(file_path)\n",
    "\n",
    "            # Calculate the length of the audio in seconds\n",
    "            audio_length = len(data) / sample_rate\n",
    "            \n",
    "            # Skip files longer than 5 seconds\n",
    "            if audio_length > 5:\n",
    "                print(f\"Skipping file {file} as it is longer than 5 seconds.\")\n",
    "                continue\n",
    "\n",
    "            num_samples_5_sec = int(sample_rate * 5)\n",
    "            data_first_5_sec = data[:num_samples_5_sec]\n",
    "\n",
    "            num_channels = get_wav_channels(file_path)\n",
    "            \n",
    "            # Process single-channel and multi-channel files\n",
    "            if num_channels == 1:\n",
    "                one_channel_count += 1\n",
    "                save_spectrogram(file_path, spectrogram_folder, target_sr)\n",
    "                process_audio_file(file_path, target_length_seconds=5, output_folder=modified_data_folder)\n",
    "            else:\n",
    "                multi_channel_count += 1\n",
    "                save_spectrogram(file_path, spectrogram_folder, target_sr)\n",
    "                process_audio_file(file_path, target_length_seconds=5, output_folder=modified_data_folder)\n",
    "                \n",
    "    print(f\"Number of files with 1 channel: {one_channel_count}\")\n",
    "    print(f\"Number of files with more than 1 channel: {multi_channel_count}\")"
   ]
  },
  {
   "cell_type": "code",
   "execution_count": null,
   "metadata": {},
   "outputs": [],
   "source": [
    "spectrogram_folder = \"/Users/miku/.cache/kagglehub/datasets/shreyj1729/best-of-watkins-marine-mammal-sound-database/versions/3/spectrograms\"\n",
    "modified_data_folder = \"/Users/miku/.cache/kagglehub/datasets/shreyj1729/best-of-watkins-marine-mammal-sound-database/versions/3/modifieddata\"\n",
    "problematic_folder = \"/Users/miku/.cache/kagglehub/datasets/shreyj1729/best-of-watkins-marine-mammal-sound-database/versions/3/badfiles\"\n",
    "data_path = \"/Users/miku/.cache/kagglehub/datasets/shreyj1729/best-of-watkins-marine-mammal-sound-database/versions/3/data\"\n",
    "target_sr = 16000"
   ]
  },
  {
   "cell_type": "code",
   "execution_count": null,
   "metadata": {},
   "outputs": [],
   "source": [
    "os.makedirs(modified_data_folder, exist_ok=True)\n",
    "os.makedirs(spectrogram_folder, exist_ok=True)\n",
    "os.makedirs(problematic_folder, exist_ok=True)"
   ]
  },
  {
   "cell_type": "code",
   "execution_count": null,
   "metadata": {},
   "outputs": [],
   "source": [
    "process_audio_data(data_path, output_folder=modified_data_folder, target_sr=target_sr)"
   ]
  },
  {
   "cell_type": "code",
   "execution_count": null,
   "metadata": {},
   "outputs": [],
   "source": []
  },
  {
   "cell_type": "code",
   "execution_count": null,
   "metadata": {},
   "outputs": [],
   "source": []
  },
  {
   "cell_type": "code",
   "execution_count": null,
   "metadata": {},
   "outputs": [],
   "source": []
  },
  {
   "cell_type": "code",
   "execution_count": null,
   "metadata": {},
   "outputs": [],
   "source": [
    "import numpy as np\n",
    "import os\n",
    "from scipy.ndimage import zoom\n",
    "\n",
    "def load_spectrogram_data(spectrogram_folder, target_shape=(128, 128)):\n",
    "    spectrograms = []\n",
    "    labels = []\n",
    "    \n",
    "    for animal_folder in os.listdir(spectrogram_folder):\n",
    "        animal_folder_path = os.path.join(spectrogram_folder, animal_folder)\n",
    "        \n",
    "        if not os.path.isdir(animal_folder_path):\n",
    "            continue\n",
    "        \n",
    "        for file in os.listdir(animal_folder_path):\n",
    "            if file.endswith('.npy'):\n",
    "                file_path = os.path.join(animal_folder_path, file)\n",
    "                spectrogram = np.load(file_path)\n",
    "                \n",
    "                # Resize spectrogram to the target shape\n",
    "                spectrogram_resized = zoom(spectrogram, (target_shape[0] / spectrogram.shape[0], target_shape[1] / spectrogram.shape[1]), order=3)\n",
    "                \n",
    "                # Ensure spectrogram has the right dimensions (e.g., 2D: time x frequency)\n",
    "                spectrograms.append(spectrogram_resized)\n",
    "                labels.append(animal_folder)\n",
    "    \n",
    "    # Convert lists to numpy arrays\n",
    "    spectrograms = np.array(spectrograms)\n",
    "    labels = np.array(labels)\n",
    "    \n",
    "    return spectrograms, labels\n",
    "\n",
    "# Load the spectrogram data with the resized shape\n",
    "spectrograms, labels = load_spectrogram_data(spectrogram_folder, target_shape=(128, 128))\n",
    "\n",
    "# Check the shapes\n",
    "print(f\"Spectrograms shape: {spectrograms.shape}\")\n",
    "print(f\"Labels shape: {labels.shape}\")\n"
   ]
  },
  {
   "cell_type": "code",
   "execution_count": null,
   "metadata": {},
   "outputs": [],
   "source": []
  }
 ],
 "metadata": {
  "kernelspec": {
   "display_name": ".venv",
   "language": "python",
   "name": "python3"
  },
  "language_info": {
   "codemirror_mode": {
    "name": "ipython",
    "version": 3
   },
   "file_extension": ".py",
   "mimetype": "text/x-python",
   "name": "python",
   "nbconvert_exporter": "python",
   "pygments_lexer": "ipython3",
   "version": "3.13.1"
  }
 },
 "nbformat": 4,
 "nbformat_minor": 2
}
